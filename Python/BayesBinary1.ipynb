{
  "nbformat": 4,
  "nbformat_minor": 0,
  "metadata": {
    "colab": {
      "name": "BayesBinary1",
      "version": "0.3.2",
      "provenance": []
    },
    "kernelspec": {
      "name": "python3",
      "display_name": "Python 3"
    },
    "accelerator": "GPU"
  },
  "cells": [
    {
      "metadata": {
        "id": "CoTI7Zsbt7FB",
        "colab_type": "code",
        "outputId": "b297555a-3e92-49c0-8344-a528b0364911",
        "colab": {
          "resources": {
            "http://localhost:8080/nbextensions/google.colab/files.js": {
              "data": "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",
              "ok": true,
              "headers": [
                [
                  "content-type",
                  "application/javascript"
                ]
              ],
              "status": 200,
              "status_text": ""
            }
          },
          "base_uri": "https://localhost:8080/",
          "height": 69
        }
      },
      "cell_type": "code",
      "source": [
        "from google.colab import files\n",
        "uploaded = files.upload()"
      ],
      "execution_count": 0,
      "outputs": [
        {
          "output_type": "display_data",
          "data": {
            "text/html": [
              "\n",
              "     <input type=\"file\" id=\"files-8111c776-6981-404a-983b-c7989708c95f\" name=\"files[]\" multiple disabled />\n",
              "     <output id=\"result-8111c776-6981-404a-983b-c7989708c95f\">\n",
              "      Upload widget is only available when the cell has been executed in the\n",
              "      current browser session. Please rerun this cell to enable.\n",
              "      </output>\n",
              "      <script src=\"/nbextensions/google.colab/files.js\"></script> "
            ],
            "text/plain": [
              "<IPython.core.display.HTML object>"
            ]
          },
          "metadata": {
            "tags": []
          }
        },
        {
          "output_type": "stream",
          "text": [
            "Saving categoryFuruyaFinal.csv to categoryFuruyaFinal.csv\n"
          ],
          "name": "stdout"
        }
      ]
    },
    {
      "metadata": {
        "id": "n0wv-EzFEjnJ",
        "colab_type": "code",
        "outputId": "c8aa9d1d-53a6-4843-dc02-76a2145b0430",
        "colab": {
          "base_uri": "https://localhost:8080/",
          "height": 306
        }
      },
      "cell_type": "code",
      "source": [
        "!pip install GPy"
      ],
      "execution_count": 0,
      "outputs": [
        {
          "output_type": "stream",
          "text": [
            "Collecting GPy\n",
            "  Using cached https://files.pythonhosted.org/packages/98/7d/e55ffc3b16b68e8b50ccecacec56715bcf49d5c2f204f5ba60374d419611/GPy-1.9.6.tar.gz\n",
            "Requirement already satisfied: numpy>=1.7 in /usr/local/lib/python3.6/dist-packages (from GPy) (1.14.6)\n",
            "Requirement already satisfied: scipy>=0.16 in /usr/local/lib/python3.6/dist-packages (from GPy) (1.1.0)\n",
            "Requirement already satisfied: six in /usr/local/lib/python3.6/dist-packages (from GPy) (1.11.0)\n",
            "Collecting paramz>=0.9.0 (from GPy)\n",
            "\u001b[?25l  Downloading https://files.pythonhosted.org/packages/fd/78/b0f0164a32518bfd3b98cb2e149b7a4d5504d13fb503b31a6c59b958ed18/paramz-0.9.4.tar.gz (70kB)\n",
            "\r\u001b[K    14% |████▋                           | 10kB 15.6MB/s eta 0:00:01\r\u001b[K    28% |█████████▎                      | 20kB 4.4MB/s eta 0:00:01\r\u001b[K    43% |██████████████                  | 30kB 6.3MB/s eta 0:00:01\r\u001b[K    57% |██████████████████▌             | 40kB 4.0MB/s eta 0:00:01\r\u001b[K    72% |███████████████████████▏        | 51kB 4.8MB/s eta 0:00:01\r\u001b[K    86% |███████████████████████████▉    | 61kB 5.7MB/s eta 0:00:01\r\u001b[K    100% |████████████████████████████████| 71kB 5.7MB/s \n",
            "\u001b[?25hRequirement already satisfied: decorator>=4.0.10 in /usr/local/lib/python3.6/dist-packages (from paramz>=0.9.0->GPy) (4.3.0)\n",
            "Building wheels for collected packages: GPy, paramz\n",
            "  Running setup.py bdist_wheel for GPy ... \u001b[?25l-\b \b\\\b \b|\b \b/\b \b-\b \b\\\b \b|\b \b/\b \b-\b \b\\\b \b|\b \b/\b \b-\b \b\\\b \b|\b \b/\b \b-\b \b\\\b \b|\b \b/\b \bdone\n",
            "\u001b[?25h  Stored in directory: /root/.cache/pip/wheels/97/82/1d/32a361e1ff2b4d9129a60343831dd99cdc74440e2db1c55264\n",
            "  Running setup.py bdist_wheel for paramz ... \u001b[?25l-\b \b\\\b \bdone\n",
            "\u001b[?25h  Stored in directory: /root/.cache/pip/wheels/a9/fc/74/3bbd263c43ed98d67343df24cebf0a0ee34afee40d769fda9c\n",
            "Successfully built GPy paramz\n",
            "Installing collected packages: paramz, GPy\n",
            "Successfully installed GPy-1.9.6 paramz-0.9.4\n"
          ],
          "name": "stdout"
        }
      ]
    },
    {
      "metadata": {
        "id": "w82msZwoEocw",
        "colab_type": "code",
        "outputId": "2cdbdef7-dd37-4637-def6-4943ea50e112",
        "colab": {
          "base_uri": "https://localhost:8080/",
          "height": 272
        }
      },
      "cell_type": "code",
      "source": [
        "!pip install GPyOpt"
      ],
      "execution_count": 0,
      "outputs": [
        {
          "output_type": "stream",
          "text": [
            "Collecting GPyOpt\n",
            "\u001b[?25l  Downloading https://files.pythonhosted.org/packages/9c/40/ca8f080d74d9f4e29069faa944fcfb083e8693b6daaba0f1e4bc65c88650/GPyOpt-1.2.5.tar.gz (55kB)\n",
            "\u001b[K    100% |████████████████████████████████| 61kB 6.5MB/s \n",
            "\u001b[?25hRequirement already satisfied: numpy>=1.7 in /usr/local/lib/python3.6/dist-packages (from GPyOpt) (1.14.6)\n",
            "Requirement already satisfied: scipy>=0.16 in /usr/local/lib/python3.6/dist-packages (from GPyOpt) (1.1.0)\n",
            "Requirement already satisfied: GPy>=1.8 in /usr/local/lib/python3.6/dist-packages (from GPyOpt) (1.9.6)\n",
            "Requirement already satisfied: paramz>=0.9.0 in /usr/local/lib/python3.6/dist-packages (from GPy>=1.8->GPyOpt) (0.9.4)\n",
            "Requirement already satisfied: six in /usr/local/lib/python3.6/dist-packages (from GPy>=1.8->GPyOpt) (1.11.0)\n",
            "Requirement already satisfied: decorator>=4.0.10 in /usr/local/lib/python3.6/dist-packages (from paramz>=0.9.0->GPy>=1.8->GPyOpt) (4.3.0)\n",
            "Building wheels for collected packages: GPyOpt\n",
            "  Running setup.py bdist_wheel for GPyOpt ... \u001b[?25l-\b \b\\\b \bdone\n",
            "\u001b[?25h  Stored in directory: /root/.cache/pip/wheels/33/1d/87/dc02440831ba986b1547dd11a7dcd44e893b0527083066d869\n",
            "Successfully built GPyOpt\n",
            "Installing collected packages: GPyOpt\n",
            "Successfully installed GPyOpt-1.2.5\n"
          ],
          "name": "stdout"
        }
      ]
    },
    {
      "metadata": {
        "id": "JOrdzmX9uFx0",
        "colab_type": "code",
        "outputId": "a23e7736-9d02-4a0a-e93e-c1119a41f9cc",
        "colab": {
          "base_uri": "https://localhost:8080/",
          "height": 34
        }
      },
      "cell_type": "code",
      "source": [
        "import numpy as np\n",
        "import tensorflow as tf\n",
        "import keras as ks"
      ],
      "execution_count": 0,
      "outputs": [
        {
          "output_type": "stream",
          "text": [
            "Using TensorFlow backend.\n"
          ],
          "name": "stderr"
        }
      ]
    },
    {
      "metadata": {
        "id": "8wdB8uhWuF1b",
        "colab_type": "code",
        "colab": {}
      },
      "cell_type": "code",
      "source": [
        "import pandas as pd\n",
        "import GPy\n",
        "import GPyOpt\n",
        "import random\n",
        "import matplotlib.pyplot as plt\n",
        "from keras.models import Sequential\n",
        "from keras.layers import Dense, Activation, Flatten,Dropout,Conv2D,Conv1D,MaxPooling2D, MaxPooling1D,Reshape\n",
        "from keras.utils import np_utils\n",
        "from keras.callbacks import EarlyStopping\n",
        "from keras.wrappers.scikit_learn import KerasClassifier\n",
        "from keras.utils.np_utils import to_categorical\n",
        "from sklearn import preprocessing\n",
        "from keras.layers.pooling import GlobalMaxPooling1D\n",
        "from sklearn import svm\n",
        "from sklearn import metrics\n",
        "from keras.callbacks import EarlyStopping"
      ],
      "execution_count": 0,
      "outputs": []
    },
    {
      "metadata": {
        "id": "l5iOpRR5uF6q",
        "colab_type": "code",
        "colab": {}
      },
      "cell_type": "code",
      "source": [
        "class CNNBayes\n",
        "\n"
      ],
      "execution_count": 0,
      "outputs": []
    },
    {
      "metadata": {
        "id": "P6ilptdkw1XZ",
        "colab_type": "code",
        "colab": {}
      },
      "cell_type": "code",
      "source": [
        "df = pd.read_csv(\"categoryFuruyaFinal.csv\",delimiter=',')"
      ],
      "execution_count": 0,
      "outputs": []
    },
    {
      "metadata": {
        "id": "C8AdYe-bw_fH",
        "colab_type": "code",
        "colab": {}
      },
      "cell_type": "code",
      "source": [
        "data = df.values"
      ],
      "execution_count": 0,
      "outputs": []
    },
    {
      "metadata": {
        "id": "NeNh0OICw_nw",
        "colab_type": "code",
        "colab": {}
      },
      "cell_type": "code",
      "source": [
        "df_combi1 = df[(df['appcat.x'] !='ゲーム')]\n",
        "data = df_combi1.values\n",
        "data1 = data\n",
        "Xtrain1 = data1[0:2592,5:725]\n",
        "Xtest1 = data1[3888:5832,5:725]\n",
        "Ytrain1 = data1[0:2592,1]\n",
        "Ytrain1= np.where(Ytrain1 == 1, 0, 1)\n",
        "Ytest1 = data1[2592:3888,1]\n",
        "Ytest1= np.where(Ytest1 == 1, 0, 1)\n",
        "Ytest = data1[2592:3888,1]\n",
        "Ytest = np.where(Ytest == 1, 0, 1)\n",
        "train_X = np.reshape(Xtrain1, (-1, 720, 1))\n",
        "test_X = np.reshape(Xtest1, (-1, 720, 1))\n",
        "num_class = 2\n",
        "Ytrain1 = to_categorical(Ytrain1, 2)\n",
        "Ytest1 = to_categorical(Ytest1, 2)\n",
        "    "
      ],
      "execution_count": 0,
      "outputs": []
    },
    {
      "metadata": {
        "id": "L8fDTNh8tmAC",
        "colab_type": "code",
        "outputId": "2b872ea5-c58a-481f-f8b4-08112f182622",
        "colab": {
          "base_uri": "https://localhost:8080/",
          "height": 34
        }
      },
      "cell_type": "code",
      "source": [
        "Xtest1.shape"
      ],
      "execution_count": 0,
      "outputs": [
        {
          "output_type": "execute_result",
          "data": {
            "text/plain": [
              "(0, 720)"
            ]
          },
          "metadata": {
            "tags": []
          },
          "execution_count": 14
        }
      ]
    },
    {
      "metadata": {
        "id": "Mtzqv8y4uGIW",
        "colab_type": "code",
        "colab": {}
      },
      "cell_type": "code",
      "source": [
        "class CNNBayes():\n",
        "  \n",
        "  def __init__(self,batch_size=150, \n",
        "                 epochs=60, \n",
        "                kernel_l1 = 3,\n",
        "                kernel_l2=3,\n",
        "                kernel_l3 = 3,\n",
        "                kernel_l4=3,\n",
        "                kernel_l5 = 3,\n",
        "                filter_l1=30,\n",
        "                filter_l2=30,\n",
        "                filter_l3=30,\n",
        "                filter_l4=30,\n",
        "                filter_l5=30,\n",
        "                dence_l1=20,\n",
        "                pooling_l1 = 2,\n",
        "                pooling_l2=2,\n",
        "                pooling_l3=2,\n",
        "                drop_join= 0.2,\n",
        "                 validation_split=0.1):\n",
        "    self.kernel_l1 = kernel_l1\n",
        "    self.kernel_l2 = kernel_l2\n",
        "    self.kernel_l3 = kernel_l3\n",
        "    self.kernel_l4 = kernel_l4\n",
        "    self.kernel_l5 = kernel_l5\n",
        "    self.filter_l1= filter_l1\n",
        "    self.filter_l2 = filter_l2\n",
        "    self.filter_l3= filter_l3\n",
        "    self.filter_l4 = filter_l4\n",
        "    self.filter_l5= filter_l5\n",
        "    self.pooling_l1=pooling_l1\n",
        "    self.pooling_l2=pooling_l2\n",
        "    self.pooling_l3=pooling_l3\n",
        "    self.dence_l1 = dence_l1\n",
        "    self.drop_join= drop_join\n",
        "    self.batch_size= batch_size\n",
        "    self.epochs = epochs\n",
        "    self.validation_split = validation_split\n",
        "    self.__x_train, self.__x_test,self.__y_train, self.__y_test = self.appData()\n",
        "    self.__model = self.appModel()\n",
        "    \n",
        "  def appData(self):\n",
        "    df = pd.read_csv(\"categoryFuruyaFinal.csv\",delimiter=',')\n",
        "    df_combi1 = df[(df['appcat.x'] !='ゲーム')]\n",
        "    data = df_combi1.values\n",
        "    data1 = data\n",
        "    Xtrain1 = data1[0:2592,5:725]\n",
        "    Xtest1 = data1[2592:3888,5:725]\n",
        "    Ytrain1 = data1[0:2592,1]\n",
        "    Ytrain1= np.where(Ytrain1 == 1, 0, 1)\n",
        "    Ytest1 = data1[2592:3888,1]\n",
        "    Ytest1= np.where(Ytest1 == 1, 0, 1)\n",
        "    Ytest = data1[2592:3888,1]\n",
        "    Ytest = np.where(Ytest == 1, 0, 1)\n",
        "    train_X = np.reshape(Xtrain1, (-1, 720, 1))\n",
        "    test_X = np.reshape(Xtest1, (-1, 720, 1))\n",
        "    num_class = 2\n",
        "    Ytrain1 = to_categorical(Ytrain1, 2)\n",
        "    Ytest1 = to_categorical(Ytest1, 2)\n",
        "    \n",
        "    return train_X, test_X, Ytrain1,Ytest1\n",
        "  \n",
        "  def appModel(self):\n",
        "    model = Sequential()\n",
        "    model.add(Conv1D(self.filter_l1, self.kernel_l1, padding='same', input_shape=(720, 1), activation='relu'))\n",
        "    model.add(MaxPooling1D(self.pooling_l1, padding='same'))\n",
        "    model.add(Conv1D(self.filter_l2, self.kernel_l2, padding='same', activation='relu'))\n",
        "    model.add(Conv1D(self.filter_l3, self.kernel_l3, padding='same', activation='relu'))\n",
        "    model.add(MaxPooling1D(self.pooling_l2, padding='same'))\n",
        "    model.add(Conv1D(self.filter_l4, self.kernel_l4, padding='same', activation='relu'))\n",
        "    model.add(MaxPooling1D(self.pooling_l3, padding='same'))\n",
        "    model.add(Conv1D(self.filter_l5, self.kernel_l5, padding='same', activation='relu'))\n",
        "\n",
        "\n",
        "    model.add(Flatten())\n",
        "    model.add(Dense(self.dence_l1,activation='relu'))\n",
        "    model.add(Dropout(self.drop_join))\n",
        "    model.add(Dense(2))\n",
        "    model.add(Activation('softmax'))\n",
        "    #model.summary()\n",
        "    model.compile(loss='binary_crossentropy', \n",
        "    optimizer='adam', \n",
        "    metrics=['accuracy'])\n",
        "  \n",
        "    return model\n",
        "  \n",
        "  def appfit(self):\n",
        "    early_stopping = EarlyStopping(patience = 0,verbose=1)\n",
        "  \n",
        "    self.__model.fit(self.__x_train, self.__y_train,\n",
        "                batch_size= self.batch_size,\n",
        "                epochs= self.epochs,\n",
        "                verbose=0,\n",
        "                validation_split=self.validation_split,\n",
        "                callbacks= [early_stopping])\n",
        "   \n",
        "  def appevaluate(self):\n",
        "    self.appfit()\n",
        "  \n",
        "    evaluation = self.__model.evaluate(self.__x_test,self.__y_test, batch_size=self.batch_size,verbose= 0)\n",
        "  \n",
        "    return evaluation\n",
        "  \n",
        "def runApp(batch_size=150, \n",
        "                 epochs=60, \n",
        "                kernel_l1 = 4,\n",
        "                kernel_l2=4,\n",
        "                kernel_l3 = 4,\n",
        "                kernel_l4=4,\n",
        "                kernel_l5=4,\n",
        "                filter_l1=30,\n",
        "                filter_l2=30,\n",
        "                filter_l3=30,\n",
        "                filter_l4=30,\n",
        "                filter_l5=30,\n",
        "                dence_l1=20,\n",
        "                pooling_l1=2,\n",
        "                pooling_l2=2,\n",
        "                pooling_l3=2,\n",
        "                drop_join= 0.2,\n",
        "                 validation_split=0.1):\n",
        "  \n",
        "  cnnbayes = CNNBayes(batch_size= batch_size,epochs = epochs,kernel_l1=kernel_l1,\n",
        "                      kernel_l2=kernel_l2,kernel_l3=kernel_l3 ,kernel_l4=kernel_l4 ,kernel_l5=kernel_l5,\n",
        "                      filter_l1=filter_l1,filter_l2=filter_l2,filter_l3=filter_l3,filter_l4=filter_l4,filter_l5=filter_l5,\n",
        "                      dence_l1=dence_l1, pooling_l1 = pooling_l1,pooling_l2 = pooling_l2 ,pooling_l3 = pooling_l3,\n",
        "                      drop_join=drop_join,\n",
        "                      validation_split=validation_split)\n",
        "  \n",
        "  cnn_evaluation = cnnbayes.appevaluate()\n",
        "  \n",
        "  return cnn_evaluation  "
      ],
      "execution_count": 0,
      "outputs": []
    },
    {
      "metadata": {
        "id": "JfsBpCoj_GxZ",
        "colab_type": "code",
        "colab": {}
      },
      "cell_type": "code",
      "source": [
        "def runApp(batch_size=50,epochs=30, validation_split=0.1):\n",
        "  \n",
        "  cnnbayes = CNNBayes(batch_size= batch_size,epochs = epochs,\n",
        "                      validation_split=validation_split)\n",
        "  \n",
        "  cnn_evaluation = cnnbayes.appevaluate()\n",
        "  \n",
        "  return cnn_evaluation\n",
        "  \n",
        "  "
      ],
      "execution_count": 0,
      "outputs": []
    },
    {
      "metadata": {
        "id": "3RnScjRe_IKe",
        "colab_type": "code",
        "colab": {}
      },
      "cell_type": "code",
      "source": [
        "bounds = [{'name': 'validation_split', 'type': 'continuous',  'domain': (0.0, 0.3)},\n",
        "                {'name':'drop_join','type': 'continuous',  'domain': (0.0, 0.3)},\n",
        "                {'name': 'filter_l1',       'type': 'discrete',    'domain': (30,60,90,168,780)},\n",
        "                {'name': 'filter_l2',       'type': 'discrete',    'domain': (30,60,90,168,780)},\n",
        "                {'name': 'filter_l3',       'type': 'discrete',    'domain': (30,60,90,168,780)},\n",
        "                {'name': 'filter_l4',       'type': 'discrete',    'domain': (30,60,90,168,780)},\n",
        "                {'name': 'filter_l5',       'type': 'discrete',    'domain': (30,60,90,168,780)},\n",
        "                {'name': 'kernel_l1',       'type': 'discrete',    'domain': (3,4,6,7,8)},\n",
        "                {'name': 'kernel_l2',       'type': 'discrete',    'domain': (3,4,6,7,8)},\n",
        "                {'name': 'kernel_l3',       'type': 'discrete',    'domain': (3,4,6,7,8)},\n",
        "                {'name': 'kernel_l4',       'type': 'discrete',    'domain': (3,4,6,7,8)},\n",
        "                {'name': 'kernel_l5',       'type': 'discrete',    'domain': (3,4,6,7,8)},\n",
        "                {'name': 'dence_l1',       'type': 'discrete',    'domain': (20,40,60,80,100,120)},\n",
        "                {'name': 'pooling_l1',       'type': 'discrete',    'domain': (2,3,4,5,6)},\n",
        "                {'name': 'pooling_l2',       'type': 'discrete',    'domain': (2,3,4,5,6)},\n",
        "                {'name': 'pooling_l3',       'type': 'discrete',    'domain': (2,3,4,5,6)},\n",
        "                {'name': 'batch_size',       'type': 'discrete',    'domain': (150,175,200,225,250)},\n",
        "                {'name': 'epochs',           'type': 'discrete',    'domain': (60,80,100,120,150)}]"
      ],
      "execution_count": 0,
      "outputs": []
    },
    {
      "metadata": {
        "id": "ZKM-MEQKYRf_",
        "colab_type": "code",
        "colab": {}
      },
      "cell_type": "code",
      "source": [
        "bounds1 = [{'name': 'validation_split', 'type': 'continuous',  'domain': (0.0, 0.3)},\n",
        "                {'name': 'batch_size',       'type': 'discrete',    'domain': (125,150,175,200,225,250)},\n",
        "                {'name': 'epochs',           'type': 'discrete',    'domain': (50,60,80,100,120,150)}]"
      ],
      "execution_count": 0,
      "outputs": []
    },
    {
      "metadata": {
        "id": "PBerISZA_IT0",
        "colab_type": "code",
        "outputId": "7d1ecb22-0ffb-40a3-d339-ef5bc61a2970",
        "colab": {
          "base_uri": "https://localhost:8080/",
          "height": 2142
        }
      },
      "cell_type": "code",
      "source": [
        "def f(x):\n",
        "      print(x)\n",
        "      evaluation = runApp(\n",
        "      \n",
        "     # validation_split=float(x[:,0]),\n",
        "          filter_l1 = int(x[:,2]),\n",
        "          filter_l2 = int(x[:,3]),\n",
        "          filter_l3 = int(x[:,4]),\n",
        "          filter_l4 = int(x[:,5]),\n",
        "          filter_l5 = int(x[:,6]),\n",
        "          kernel_l1 = int(x[:,7]),\n",
        "          kernel_l2  = int(x[:,8]),\n",
        "          kernel_l3 = int(x[:,9]),\n",
        "          kernel_l4  = int(x[:,10]),\n",
        "          kernel_l5 = int(x[:,11]),\n",
        "          dence_l1 = int(x[:,12]),\n",
        "          pooling_l1= int(x[:,13]),  \n",
        "          pooling_l2= int(x[:,14]),\n",
        "          pooling_l3= int(x[:,15]),\n",
        "          batch_size = int(x[:,16]),\n",
        "          epochs = int(x[:,17]),\n",
        "          validation_split= float(x[:,0]),\n",
        "          drop_join= float(x[:,1]))\n",
        "                          \n",
        "      print(\"loss:{0} \\t\\t accuracy:{1}\".format(evaluation[0], evaluation[1]))\n",
        "      print(evaluation)\n",
        "      return evaluation[0]\n",
        "    \n",
        "opt_app = GPyOpt.methods.BayesianOptimization(f=f, domain=bounds)\n",
        "\n",
        "# 最適なパラメータを探索します。\n",
        "opt_app.run_optimization(max_iter=10)\n",
        "print(\"optimized parameters: {0}\".format(opt_app.x_opt))\n",
        "print(\"optimized loss: {0}\".format(opt_app.fx_opt))"
      ],
      "execution_count": 0,
      "outputs": [
        {
          "output_type": "stream",
          "text": [
            "[[1.61865520e-01 1.73734677e-02 9.00000000e+01 9.00000000e+01\n",
            "  6.00000000e+01 3.00000000e+01 9.00000000e+01 6.00000000e+00\n",
            "  8.00000000e+00 4.00000000e+00 3.00000000e+00 8.00000000e+00\n",
            "  4.00000000e+01 5.00000000e+00 6.00000000e+00 4.00000000e+00\n",
            "  1.75000000e+02 1.00000000e+02]]\n",
            "Epoch 00008: early stopping\n",
            "loss:0.5817076059771172 \t\t accuracy:0.7291666662527455\n",
            "[0.5817076059771172, 0.7291666662527455]\n",
            "[[2.73475038e-01 2.54672072e-01 3.00000000e+01 3.00000000e+01\n",
            "  7.80000000e+02 7.80000000e+02 3.00000000e+01 6.00000000e+00\n",
            "  8.00000000e+00 8.00000000e+00 6.00000000e+00 7.00000000e+00\n",
            "  8.00000000e+01 2.00000000e+00 3.00000000e+00 3.00000000e+00\n",
            "  2.50000000e+02 1.00000000e+02]]\n",
            "Epoch 00005: early stopping\n",
            "loss:0.5240209675221531 \t\t accuracy:0.7499999968725958\n",
            "[0.5240209675221531, 0.7499999968725958]\n",
            "[[2.53638900e-01 2.03553246e-02 1.68000000e+02 3.00000000e+01\n",
            "  7.80000000e+02 6.00000000e+01 9.00000000e+01 6.00000000e+00\n",
            "  4.00000000e+00 4.00000000e+00 3.00000000e+00 8.00000000e+00\n",
            "  1.20000000e+02 6.00000000e+00 3.00000000e+00 4.00000000e+00\n",
            "  1.75000000e+02 1.50000000e+02]]\n",
            "Epoch 00005: early stopping\n",
            "loss:0.5044128615869048 \t\t accuracy:0.7731481492519379\n",
            "[0.5044128615869048, 0.7731481492519379]\n",
            "[[1.64197076e-01 2.76399185e-01 6.00000000e+01 3.00000000e+01\n",
            "  7.80000000e+02 3.00000000e+01 7.80000000e+02 4.00000000e+00\n",
            "  7.00000000e+00 8.00000000e+00 4.00000000e+00 3.00000000e+00\n",
            "  1.00000000e+02 5.00000000e+00 3.00000000e+00 4.00000000e+00\n",
            "  2.25000000e+02 6.00000000e+01]]\n",
            "Epoch 00005: early stopping\n",
            "loss:0.5658776466217306 \t\t accuracy:0.7415123474266794\n",
            "[0.5658776466217306, 0.7415123474266794]\n",
            "[[8.1090573e-02 6.9289731e-02 9.0000000e+01 3.0000000e+01 7.8000000e+02\n",
            "  3.0000000e+01 6.0000000e+01 6.0000000e+00 6.0000000e+00 8.0000000e+00\n",
            "  6.0000000e+00 3.0000000e+00 4.0000000e+01 2.0000000e+00 6.0000000e+00\n",
            "  3.0000000e+00 2.0000000e+02 1.2000000e+02]]\n",
            "Epoch 00004: early stopping\n",
            "loss:0.5124052893600346 \t\t accuracy:0.7554012408227097\n",
            "[0.5124052893600346, 0.7554012408227097]\n",
            "[[2.85182892e-01 2.60559968e-01 3.00000000e+01 3.00000000e+01\n",
            "  1.68000000e+02 7.80000000e+02 9.00000000e+01 3.00000000e+00\n",
            "  4.00000000e+00 8.00000000e+00 6.00000000e+00 6.00000000e+00\n",
            "  6.00000000e+01 4.00000000e+00 3.00000000e+00 4.00000000e+00\n",
            "  2.00000000e+02 8.00000000e+01]]\n",
            "Epoch 00007: early stopping\n",
            "loss:0.6028904543246751 \t\t accuracy:0.6990740652437564\n",
            "[0.6028904543246751, 0.6990740652437564]\n",
            "[[2.36737636e-01 2.27716159e-01 9.00000000e+01 6.00000000e+01\n",
            "  6.00000000e+01 6.00000000e+01 9.00000000e+01 7.00000000e+00\n",
            "  7.00000000e+00 8.00000000e+00 4.00000000e+00 7.00000000e+00\n",
            "  4.00000000e+01 4.00000000e+00 3.00000000e+00 3.00000000e+00\n",
            "  2.50000000e+02 6.00000000e+01]]\n",
            "Epoch 00004: early stopping\n",
            "loss:0.6128353980588325 \t\t accuracy:0.6913580326938334\n",
            "[0.6128353980588325, 0.6913580326938334]\n",
            "[[1.76350211e-01 1.28990775e-01 9.00000000e+01 7.80000000e+02\n",
            "  7.80000000e+02 1.68000000e+02 7.80000000e+02 8.00000000e+00\n",
            "  8.00000000e+00 7.00000000e+00 6.00000000e+00 3.00000000e+00\n",
            "  2.00000000e+01 2.00000000e+00 5.00000000e+00 5.00000000e+00\n",
            "  1.75000000e+02 1.50000000e+02]]\n",
            "Epoch 00003: early stopping\n",
            "loss:0.6281835807970276 \t\t accuracy:0.6797839486396607\n",
            "[0.6281835807970276, 0.6797839486396607]\n",
            "[[9.75461628e-02 1.38612596e-01 3.00000000e+01 9.00000000e+01\n",
            "  7.80000000e+02 9.00000000e+01 1.68000000e+02 4.00000000e+00\n",
            "  7.00000000e+00 3.00000000e+00 3.00000000e+00 6.00000000e+00\n",
            "  4.00000000e+01 3.00000000e+00 6.00000000e+00 6.00000000e+00\n",
            "  1.50000000e+02 1.20000000e+02]]\n",
            "Epoch 00005: early stopping\n",
            "loss:0.6019692415440524 \t\t accuracy:0.6959876553327949\n",
            "[0.6019692415440524, 0.6959876553327949]\n",
            "[[1.79101749e-01 2.90499019e-01 1.68000000e+02 9.00000000e+01\n",
            "  7.80000000e+02 6.00000000e+01 6.00000000e+01 7.00000000e+00\n",
            "  8.00000000e+00 6.00000000e+00 8.00000000e+00 3.00000000e+00\n",
            "  2.00000000e+01 4.00000000e+00 6.00000000e+00 6.00000000e+00\n",
            "  2.25000000e+02 1.00000000e+02]]\n",
            "Epoch 00004: early stopping\n",
            "loss:0.6226168005830712 \t\t accuracy:0.6828703578147624\n",
            "[0.6226168005830712, 0.6828703578147624]\n",
            "[[1.61728520e-01 1.85717016e-01 6.00000000e+01 3.00000000e+01\n",
            "  1.68000000e+02 1.68000000e+02 3.00000000e+01 7.00000000e+00\n",
            "  4.00000000e+00 7.00000000e+00 8.00000000e+00 3.00000000e+00\n",
            "  6.00000000e+01 2.00000000e+00 3.00000000e+00 2.00000000e+00\n",
            "  2.50000000e+02 1.50000000e+02]]\n",
            "Epoch 00009: early stopping\n",
            "loss:0.5027994921453941 \t\t accuracy:0.762345679656223\n",
            "[0.5027994921453941, 0.762345679656223]\n",
            "[[1.22468776e-02 1.95994469e-01 9.00000000e+01 6.00000000e+01\n",
            "  3.00000000e+01 1.68000000e+02 9.00000000e+01 4.00000000e+00\n",
            "  4.00000000e+00 7.00000000e+00 6.00000000e+00 4.00000000e+00\n",
            "  1.00000000e+02 3.00000000e+00 3.00000000e+00 6.00000000e+00\n",
            "  2.00000000e+02 1.00000000e+02]]\n",
            "Epoch 00006: early stopping\n",
            "loss:0.46606890894012687 \t\t accuracy:0.801697524977319\n",
            "[0.46606890894012687, 0.801697524977319]\n",
            "[[2.24116434e-01 7.49457342e-02 1.68000000e+02 9.00000000e+01\n",
            "  1.68000000e+02 9.00000000e+01 9.00000000e+01 8.00000000e+00\n",
            "  4.00000000e+00 8.00000000e+00 6.00000000e+00 6.00000000e+00\n",
            "  4.00000000e+01 2.00000000e+00 3.00000000e+00 5.00000000e+00\n",
            "  1.50000000e+02 1.00000000e+02]]\n",
            "Epoch 00004: early stopping\n",
            "loss:0.5153112847495962 \t\t accuracy:0.7561728427255595\n",
            "[0.5153112847495962, 0.7561728427255595]\n",
            "[[8.63421006e-02 2.55284078e-01 3.00000000e+01 1.68000000e+02\n",
            "  7.80000000e+02 3.00000000e+01 7.80000000e+02 6.00000000e+00\n",
            "  3.00000000e+00 6.00000000e+00 7.00000000e+00 4.00000000e+00\n",
            "  1.00000000e+02 6.00000000e+00 5.00000000e+00 6.00000000e+00\n",
            "  2.00000000e+02 8.00000000e+01]]\n",
            "Epoch 00005: early stopping\n",
            "loss:0.5334692860459104 \t\t accuracy:0.7538580140213907\n",
            "[0.5334692860459104, 0.7538580140213907]\n",
            "[[1.72160909e-01 2.94488585e-01 1.68000000e+02 1.68000000e+02\n",
            "  1.68000000e+02 7.80000000e+02 1.68000000e+02 3.00000000e+00\n",
            "  8.00000000e+00 3.00000000e+00 6.00000000e+00 7.00000000e+00\n",
            "  4.00000000e+01 6.00000000e+00 5.00000000e+00 4.00000000e+00\n",
            "  1.75000000e+02 6.00000000e+01]]\n",
            "Epoch 00006: early stopping\n",
            "loss:0.5240195788627053 \t\t accuracy:0.7584876579083042\n",
            "[0.5240195788627053, 0.7584876579083042]\n",
            "optimized parameters: [1.22468776e-02 1.95994469e-01 9.00000000e+01 6.00000000e+01\n",
            " 3.00000000e+01 1.68000000e+02 9.00000000e+01 4.00000000e+00\n",
            " 4.00000000e+00 7.00000000e+00 6.00000000e+00 4.00000000e+00\n",
            " 1.00000000e+02 3.00000000e+00 3.00000000e+00 6.00000000e+00\n",
            " 2.00000000e+02 1.00000000e+02]\n",
            "optimized loss: 0.46606890894012687\n"
          ],
          "name": "stdout"
        }
      ]
    },
    {
      "metadata": {
        "id": "YB2rACtL_I0i",
        "colab_type": "code",
        "colab": {}
      },
      "cell_type": "code",
      "source": [
        ""
      ],
      "execution_count": 0,
      "outputs": []
    },
    {
      "metadata": {
        "id": "06K4oXaxuGWT",
        "colab_type": "code",
        "colab": {}
      },
      "cell_type": "code",
      "source": [
        ""
      ],
      "execution_count": 0,
      "outputs": []
    },
    {
      "metadata": {
        "id": "Q5eYUUQMuGUk",
        "colab_type": "code",
        "colab": {}
      },
      "cell_type": "code",
      "source": [
        ""
      ],
      "execution_count": 0,
      "outputs": []
    },
    {
      "metadata": {
        "id": "rBDeGYCxuGRa",
        "colab_type": "code",
        "colab": {}
      },
      "cell_type": "code",
      "source": [
        ""
      ],
      "execution_count": 0,
      "outputs": []
    },
    {
      "metadata": {
        "id": "FHCef4eXuGN4",
        "colab_type": "code",
        "colab": {}
      },
      "cell_type": "code",
      "source": [
        ""
      ],
      "execution_count": 0,
      "outputs": []
    },
    {
      "metadata": {
        "id": "4MnEKAV2uF_S",
        "colab_type": "code",
        "colab": {}
      },
      "cell_type": "code",
      "source": [
        ""
      ],
      "execution_count": 0,
      "outputs": []
    }
  ]
}