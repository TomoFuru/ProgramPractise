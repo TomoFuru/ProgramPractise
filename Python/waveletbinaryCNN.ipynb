{
  "nbformat": 4,
  "nbformat_minor": 0,
  "metadata": {
    "colab": {
      "name": "waveletbinaryCNN ",
      "version": "0.3.2",
      "provenance": []
    },
    "kernelspec": {
      "name": "python3",
      "display_name": "Python 3"
    },
    "accelerator": "GPU"
  },
  "cells": [
    {
      "metadata": {
        "id": "uFV9AneR-09J",
        "colab_type": "code",
        "outputId": "8f8ffca7-28bf-4f0b-a86f-c964389249ef",
        "colab": {
          "resources": {
            "http://localhost:8080/nbextensions/google.colab/files.js": {
              "data": "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",
              "ok": true,
              "headers": [
                [
                  "content-type",
                  "application/javascript"
                ]
              ],
              "status": 200,
              "status_text": ""
            }
          },
          "base_uri": "https://localhost:8080/",
          "height": 69
        }
      },
      "cell_type": "code",
      "source": [
        "from google.colab import files\n",
        "uploaded = files.upload()"
      ],
      "execution_count": 0,
      "outputs": [
        {
          "output_type": "display_data",
          "data": {
            "text/html": [
              "\n",
              "     <input type=\"file\" id=\"files-2c14a49c-e6e9-4588-9532-74ded1d330bf\" name=\"files[]\" multiple disabled />\n",
              "     <output id=\"result-2c14a49c-e6e9-4588-9532-74ded1d330bf\">\n",
              "      Upload widget is only available when the cell has been executed in the\n",
              "      current browser session. Please rerun this cell to enable.\n",
              "      </output>\n",
              "      <script src=\"/nbextensions/google.colab/files.js\"></script> "
            ],
            "text/plain": [
              "<IPython.core.display.HTML object>"
            ]
          },
          "metadata": {
            "tags": []
          }
        },
        {
          "output_type": "stream",
          "text": [
            "Saving categoryFuruyaFinal.csv to categoryFuruyaFinal (1).csv\n"
          ],
          "name": "stdout"
        }
      ]
    },
    {
      "metadata": {
        "id": "zd4eV7KX_ztN",
        "colab_type": "code",
        "colab": {}
      },
      "cell_type": "code",
      "source": [
        "import numpy as np\n",
        "import tensorflow as tf"
      ],
      "execution_count": 0,
      "outputs": []
    },
    {
      "metadata": {
        "id": "ARD7Ghla_0EP",
        "colab_type": "code",
        "outputId": "48e876e2-8bba-4c1c-fa55-06758395a07b",
        "colab": {
          "base_uri": "https://localhost:8080/",
          "height": 34
        }
      },
      "cell_type": "code",
      "source": [
        "import keras as ks"
      ],
      "execution_count": 0,
      "outputs": [
        {
          "output_type": "stream",
          "text": [
            "Using TensorFlow backend.\n"
          ],
          "name": "stderr"
        }
      ]
    },
    {
      "metadata": {
        "id": "jeKf-43l_0LO",
        "colab_type": "code",
        "colab": {}
      },
      "cell_type": "code",
      "source": [
        "import pandas as pd\n",
        "#import GPy, GPyOpt\n",
        "import random\n",
        "import matplotlib.pyplot as plt\n",
        "import pywt\n",
        "from keras.models import Sequential\n",
        "from keras.layers import Dense, Activation, Flatten,Dropout,Conv2D,Conv1D,MaxPooling2D, MaxPooling1D,Reshape\n",
        "from keras.utils import np_utils\n",
        "from keras.callbacks import EarlyStopping\n",
        "from keras.wrappers.scikit_learn import KerasClassifier\n",
        "from keras.utils.np_utils import to_categorical\n",
        "from sklearn import preprocessing\n",
        "from keras.layers.pooling import GlobalMaxPooling1D\n",
        "from sklearn import svm\n",
        "from sklearn import metrics\n",
        "from keras.callbacks import EarlyStopping"
      ],
      "execution_count": 0,
      "outputs": []
    },
    {
      "metadata": {
        "id": "XJ15OYU1_0np",
        "colab_type": "code",
        "colab": {}
      },
      "cell_type": "code",
      "source": [
        "df = pd.read_csv(\"categoryFuruyaFinal.csv\",delimiter=',')"
      ],
      "execution_count": 0,
      "outputs": []
    },
    {
      "metadata": {
        "id": "Xb6QAiEsFtjB",
        "colab_type": "code",
        "colab": {}
      },
      "cell_type": "code",
      "source": [
        "df"
      ],
      "execution_count": 0,
      "outputs": []
    },
    {
      "metadata": {
        "id": "eXKWqXpFF12j",
        "colab_type": "code",
        "colab": {}
      },
      "cell_type": "code",
      "source": [
        "df_combi1 = df[(df['appcat.x'] !='ゲーム')]\n",
        "df_combi2 = df[(df['appcat.x'] !='ソーシャルネットワーキング')]\n",
        "df_combi3 = df[(df['appcat.x'] !='ツール類')]"
      ],
      "execution_count": 0,
      "outputs": []
    },
    {
      "metadata": {
        "id": "uajWW_6GLW9t",
        "colab_type": "code",
        "colab": {}
      },
      "cell_type": "code",
      "source": [
        "df_combi2"
      ],
      "execution_count": 0,
      "outputs": []
    },
    {
      "metadata": {
        "id": "0aucHXznLXOn",
        "colab_type": "code",
        "colab": {}
      },
      "cell_type": "code",
      "source": [
        "df_combi1.loc[df['class'] == 1, 'A'] = 0"
      ],
      "execution_count": 0,
      "outputs": []
    },
    {
      "metadata": {
        "id": "k5hF_tV3LXrq",
        "colab_type": "code",
        "colab": {}
      },
      "cell_type": "code",
      "source": [
        "df_combi1"
      ],
      "execution_count": 0,
      "outputs": []
    },
    {
      "metadata": {
        "id": "Hr9x9ZFnLXmT",
        "colab_type": "code",
        "outputId": "c5ac195f-a9c7-494d-e547-b9c28f644070",
        "colab": {
          "base_uri": "https://localhost:8080/",
          "height": 34
        }
      },
      "cell_type": "code",
      "source": [
        "df_combi1.shape"
      ],
      "execution_count": 0,
      "outputs": [
        {
          "output_type": "execute_result",
          "data": {
            "text/plain": [
              "(3888, 726)"
            ]
          },
          "metadata": {
            "tags": []
          },
          "execution_count": 19
        }
      ]
    },
    {
      "metadata": {
        "id": "zpOVlNpqLXf3",
        "colab_type": "code",
        "colab": {}
      },
      "cell_type": "code",
      "source": [
        ""
      ],
      "execution_count": 0,
      "outputs": []
    },
    {
      "metadata": {
        "id": "gn5TBGHDLXXB",
        "colab_type": "code",
        "colab": {}
      },
      "cell_type": "code",
      "source": [
        ""
      ],
      "execution_count": 0,
      "outputs": []
    },
    {
      "metadata": {
        "id": "B8C61Q6X_0jR",
        "colab_type": "code",
        "colab": {}
      },
      "cell_type": "code",
      "source": [
        "data_combi1 = df_combi1.values\n",
        "data_combi2 = df_combi2.values\n",
        "data_combi3 = df_combi3.values"
      ],
      "execution_count": 0,
      "outputs": []
    },
    {
      "metadata": {
        "id": "_BPDNmuxFy7V",
        "colab_type": "code",
        "colab": {}
      },
      "cell_type": "code",
      "source": [
        "xData_cob1 = data_combi1[:,5:726]\n",
        "xData_cob2 = data_combi2[:,5:726]\n",
        "xData_cob3 = data_combi3[:,5:726]"
      ],
      "execution_count": 0,
      "outputs": []
    },
    {
      "metadata": {
        "id": "_YZqQtDRFzL2",
        "colab_type": "code",
        "colab": {}
      },
      "cell_type": "code",
      "source": [
        "xDemo = data[0:1,5:727]"
      ],
      "execution_count": 0,
      "outputs": []
    },
    {
      "metadata": {
        "id": "Xe_IuM84biNO",
        "colab_type": "code",
        "colab": {}
      },
      "cell_type": "code",
      "source": [
        ""
      ],
      "execution_count": 0,
      "outputs": []
    },
    {
      "metadata": {
        "id": "3J4oVFW5boGR",
        "colab_type": "code",
        "colab": {}
      },
      "cell_type": "code",
      "source": [
        "xDemo_int = xDemo.astype(np.int64)"
      ],
      "execution_count": 0,
      "outputs": []
    },
    {
      "metadata": {
        "id": "_VqjIS3bbogj",
        "colab_type": "code",
        "colab": {}
      },
      "cell_type": "code",
      "source": [
        ""
      ],
      "execution_count": 0,
      "outputs": []
    },
    {
      "metadata": {
        "id": "28OzaVNybuYW",
        "colab_type": "code",
        "colab": {}
      },
      "cell_type": "code",
      "source": [
        "xData_int1 = xData_cob1.astype(np.int64)\n",
        "xData_int2 = xData_cob2.astype(np.int64)\n",
        "xData_int3 = xData_cob3.astype(np.int64)"
      ],
      "execution_count": 0,
      "outputs": []
    },
    {
      "metadata": {
        "id": "j9F3UpOvAHKW",
        "colab_type": "text"
      },
      "cell_type": "markdown",
      "source": [
        "Wavelet 変換　ここから\n",
        "Level1, Level3"
      ]
    },
    {
      "metadata": {
        "id": "taH-GjpudL4z",
        "colab_type": "code",
        "colab": {}
      },
      "cell_type": "code",
      "source": [
        "(cA_c1,cD_c1) = pywt.wavedec(xData_int1, 'haar', level=1,axis=1)\n",
        "(cA_c2,cD_c2) = pywt.wavedec(xData_int2, 'haar', level=1,axis=1)\n",
        "(cA_c3,cD_c3) = pywt.wavedec(xData_int3, 'haar', level=1,axis=1)"
      ],
      "execution_count": 0,
      "outputs": []
    },
    {
      "metadata": {
        "id": "AL5lJea8dL_X",
        "colab_type": "code",
        "colab": {}
      },
      "cell_type": "code",
      "source": [
        "cAc1_arr = np.array(cA_c1)\n",
        "cDc1_arr = np.array(cD_c1)\n",
        "cAc2_arr = np.array(cA_c2)\n",
        "cDc2_arr = np.array(cD_c2)\n",
        "cAc3_arr = np.array(cA_c3)\n",
        "cDc3_arr = np.array(cD_c3)"
      ],
      "execution_count": 0,
      "outputs": []
    },
    {
      "metadata": {
        "id": "25odDaPMbudZ",
        "colab_type": "code",
        "colab": {}
      },
      "cell_type": "code",
      "source": [
        "waveData_c1=np.concatenate([cAc1_arr, cDc1_arr], axis=1)\n",
        "waveData_c2=np.concatenate([cAc2_arr, cDc2_arr], axis=1)\n",
        "waveData_c3=np.concatenate([cAc3_arr, cDc3_arr], axis=1)\n",
        "\n",
        "#level1のHaar waveletのデータ"
      ],
      "execution_count": 0,
      "outputs": []
    },
    {
      "metadata": {
        "id": "QD58HRWlbodB",
        "colab_type": "code",
        "colab": {}
      },
      "cell_type": "code",
      "source": [
        ""
      ],
      "execution_count": 0,
      "outputs": []
    },
    {
      "metadata": {
        "id": "h1W9mS-0CwQH",
        "colab_type": "code",
        "colab": {}
      },
      "cell_type": "code",
      "source": [
        "xWavetrainL1_c1 =waveData_c1[0:2592,:] \n",
        "xWavetestL1_c1 = waveData_c1[2592:3888,:]\n",
        "xWavetrainL1_c2 =waveData_c2[0:2592,:] \n",
        "xWavetestL1_c2 = waveData_c2[2592:3888,:]\n",
        "xWavetrainL1_c3 =waveData_c3[0:2592,:] \n",
        "xWavetestL1_c3 = waveData_c3[2592:3888,:]"
      ],
      "execution_count": 0,
      "outputs": []
    },
    {
      "metadata": {
        "id": "khgEz2j0FLzZ",
        "colab_type": "code",
        "colab": {}
      },
      "cell_type": "code",
      "source": [
        "xWavetestL1 = waveData[3888:5832,:]"
      ],
      "execution_count": 0,
      "outputs": []
    },
    {
      "metadata": {
        "id": "9PdndGIZCxL4",
        "colab_type": "code",
        "colab": {}
      },
      "cell_type": "code",
      "source": [
        ""
      ],
      "execution_count": 0,
      "outputs": []
    },
    {
      "metadata": {
        "id": "Ttg6hiHpCGRL",
        "colab_type": "text"
      },
      "cell_type": "markdown",
      "source": [
        "ここからlevel3 のwavelet変換"
      ]
    },
    {
      "metadata": {
        "id": "TPOvdEAWB-Dz",
        "colab_type": "code",
        "colab": {}
      },
      "cell_type": "code",
      "source": [
        "(cA3_c1,cD3_c1,cD2_c1,cD1_c1) = pywt.wavedec(xData_int1, 'haar', level=3,axis=1)\n",
        "(cA3_c2,cD3_c2,cD2_c2,cD1_c2) = pywt.wavedec(xData_int2, 'haar', level=3,axis=1)\n",
        "(cA3_c3,cD3_c3,cD2_c3,cD1_c3) = pywt.wavedec(xData_int3, 'haar', level=3,axis=1)"
      ],
      "execution_count": 0,
      "outputs": []
    },
    {
      "metadata": {
        "id": "OAKaInoW1pTq",
        "colab_type": "text"
      },
      "cell_type": "markdown",
      "source": [
        "level2\n"
      ]
    },
    {
      "metadata": {
        "id": "xIXk-2m8cF7q",
        "colab_type": "code",
        "colab": {}
      },
      "cell_type": "code",
      "source": [
        "(cA2_c1,cD22_c1,cD21_c1) = pywt.wavedec(xData_int1, 'haar', level=2,axis=1)\n",
        "(cA2_c2,cD22_c2,cD21_c2) = pywt.wavedec(xData_int2, 'haar', level=2,axis=1)\n",
        "(cA2_c3,cD22_c3,cD21_c3) = pywt.wavedec(xData_int3, 'haar', level=2,axis=1)"
      ],
      "execution_count": 0,
      "outputs": []
    },
    {
      "metadata": {
        "id": "wga8UpGO2c9A",
        "colab_type": "text"
      },
      "cell_type": "markdown",
      "source": [
        "level3"
      ]
    },
    {
      "metadata": {
        "id": "znTSEC_76dFM",
        "colab_type": "code",
        "colab": {}
      },
      "cell_type": "code",
      "source": [
        "(cA4_c1,cD4_c1,cD43_c1,cD42_c1,cD41_c1) = pywt.wavedec(xData_int1, 'haar', level=4,axis=1)\n",
        "(cA4_c2,cD4_c2,cD43_c2,cD42_c2,cD41_c2) = pywt.wavedec(xData_int2, 'haar', level=4,axis=1)\n",
        "(cA4_c3,cD4_c3,cD43_c3,cD42_c3,cD41_c3) = pywt.wavedec(xData_int3, 'haar', level=4,axis=1)"
      ],
      "execution_count": 0,
      "outputs": []
    },
    {
      "metadata": {
        "id": "_pulg1Vl6jGl",
        "colab_type": "code",
        "colab": {}
      },
      "cell_type": "code",
      "source": [
        "cA4c1_arr= np.array(cA4_c1)\n",
        "cD4c1_arr= np.array(cD4_c1)\n",
        "cD43c1_arr= np.array(cD43_c1)\n",
        "cD42c1_arr= np.array(cD42_c1)\n",
        "cD41c1_arr= np.array(cD41_c1)\n",
        "cA4c2_arr= np.array(cA4_c2)\n",
        "cD4c2_arr= np.array(cD4_c2)\n",
        "cD43c2_arr= np.array(cD43_c2)\n",
        "cD42c2_arr= np.array(cD42_c2)\n",
        "cD41c2_arr= np.array(cD41_c2)\n",
        "cA4c3_arr= np.array(cA4_c3)\n",
        "cD4c3_arr= np.array(cD4_c3)\n",
        "cD43c3_arr= np.array(cD43_c3)\n",
        "cD42c3_arr= np.array(cD42_c3)\n",
        "cD41c3_arr= np.array(cD41_c3)"
      ],
      "execution_count": 0,
      "outputs": []
    },
    {
      "metadata": {
        "id": "_HrVoel7B-YL",
        "colab_type": "code",
        "colab": {}
      },
      "cell_type": "code",
      "source": [
        "cA3c1_arr= np.array(cA3_c1)\n",
        "cD3c1_arr= np.array(cD3_c1)\n",
        "cD2c1_arr= np.array(cD2_c1)\n",
        "cD1c1_arr= np.array(cD1_c1)\n",
        "cA3c2_arr= np.array(cA3_c2)\n",
        "cD3c2_arr= np.array(cD3_c2)\n",
        "cD2c2_arr= np.array(cD2_c2)\n",
        "cD1c2_arr= np.array(cD1_c2)\n",
        "cA3c3_arr= np.array(cA3_c3)\n",
        "cD3c3_arr= np.array(cD3_c3)\n",
        "cD2c3_arr= np.array(cD2_c3)\n",
        "cD1c3_arr= np.array(cD1_c3)"
      ],
      "execution_count": 0,
      "outputs": []
    },
    {
      "metadata": {
        "id": "rehDxWdbcNmY",
        "colab_type": "code",
        "colab": {}
      },
      "cell_type": "code",
      "source": [
        "cA2c1_arr= np.array(cA2_c1)\n",
        "cD22c1_arr= np.array(cD22_c1)\n",
        "cD21c1_arr= np.array(cD21_c1)\n",
        "cA2c2_arr= np.array(cA2_c2)\n",
        "cD22c2_arr= np.array(cD22_c2)\n",
        "cD21c2_arr= np.array(cD21_c2)\n",
        "cA2c3_arr= np.array(cA2_c3)\n",
        "cD22c3_arr= np.array(cD22_c3)\n",
        "cD21c3_arr= np.array(cD21_c3)\n"
      ],
      "execution_count": 0,
      "outputs": []
    },
    {
      "metadata": {
        "id": "N1RdGREvCahy",
        "colab_type": "code",
        "colab": {}
      },
      "cell_type": "code",
      "source": [
        "waveDataL3_c1=np.concatenate([cA3c1_arr, cD3c1_arr,cD2c1_arr,cD1c1_arr], axis=1)\n",
        "waveDataL3_c2=np.concatenate([cA3c2_arr, cD3c2_arr,cD2c2_arr,cD1c2_arr], axis=1)\n",
        "waveDataL3_c3=np.concatenate([cA3c3_arr, cD3c3_arr,cD2c3_arr,cD1c3_arr], axis=1)"
      ],
      "execution_count": 0,
      "outputs": []
    },
    {
      "metadata": {
        "id": "RTWacL5FB-xz",
        "colab_type": "code",
        "colab": {}
      },
      "cell_type": "code",
      "source": [
        ""
      ],
      "execution_count": 0,
      "outputs": []
    },
    {
      "metadata": {
        "id": "Hh-3kS007M1V",
        "colab_type": "code",
        "colab": {}
      },
      "cell_type": "code",
      "source": [
        "waveDataL4_c1=np.concatenate([cA4c1_arr, cD4c1_arr,cD43c1_arr,cD42c1_arr,cD41c1_arr], axis=1)\n",
        "waveDataL4_c2=np.concatenate([cA4c2_arr, cD4c2_arr,cD43c2_arr,cD42c2_arr,cD41c2_arr], axis=1)\n",
        "waveDataL4_c3=np.concatenate([cA4c3_arr, cD4c3_arr,cD43c3_arr,cD42c3_arr,cD41c3_arr], axis=1)"
      ],
      "execution_count": 0,
      "outputs": []
    },
    {
      "metadata": {
        "id": "eiolyzO3ca8I",
        "colab_type": "code",
        "colab": {}
      },
      "cell_type": "code",
      "source": [
        "waveDataL2_c1=np.concatenate([cA2c1_arr, cD22c1_arr,cD21c1_arr], axis=1)\n",
        "waveDataL2_c2=np.concatenate([cA2c2_arr, cD22c2_arr,cD21c2_arr], axis=1)\n",
        "waveDataL2_c3=np.concatenate([cA2c3_arr, cD22c3_arr,cD21c3_arr], axis=1)"
      ],
      "execution_count": 0,
      "outputs": []
    },
    {
      "metadata": {
        "id": "2Z26BZA7B9_Z",
        "colab_type": "code",
        "colab": {}
      },
      "cell_type": "code",
      "source": [
        "xWavetrainL3_c1 =waveDataL3_c1[0:2592,:] \n",
        "xWavetestL3_c1 = waveDataL3_c1[2592:3888,:]\n",
        "xWavetrainL3_c2 =waveDataL3_c2[0:2592,:] \n",
        "xWavetestL3_c2 = waveDataL3_c2[2592:3888,:]\n",
        "xWavetrainL3_c3 =waveDataL3_c3[0:2592,:] \n",
        "xWavetestL3_c3 = waveDataL3_c3[2592:3888,:]"
      ],
      "execution_count": 0,
      "outputs": []
    },
    {
      "metadata": {
        "id": "8StQ_0Z6cnqU",
        "colab_type": "code",
        "colab": {}
      },
      "cell_type": "code",
      "source": [
        "xWavetrainL2_c1 =waveDataL2_c1[0:2592,:] \n",
        "xWavetestL2_c1 = waveDataL2_c1[2592:3888,:]\n",
        "xWavetrainL2_c2=waveDataL2_c2[0:2592,:] \n",
        "xWavetestL2_c2 = waveDataL2_c2[2592:3888,:]\n",
        "xWavetrainL2_c3 =waveDataL2_c3[0:2592,:] \n",
        "xWavetestL2_c3 = waveDataL2_c3[2592:3888,:]"
      ],
      "execution_count": 0,
      "outputs": []
    },
    {
      "metadata": {
        "id": "CiZGJ3uCFPWB",
        "colab_type": "code",
        "colab": {}
      },
      "cell_type": "code",
      "source": [
        "xWavetestL3 = waveDataL3[3888:5832,:]"
      ],
      "execution_count": 0,
      "outputs": []
    },
    {
      "metadata": {
        "id": "YKKV5dZR8WQD",
        "colab_type": "code",
        "colab": {}
      },
      "cell_type": "code",
      "source": [
        "xWavetrainL4_c1 =waveDataL4_c1[0:3888,:] \n",
        "xWavetestL4_c1 = waveDataL4_c1[3888:5832,:]\n",
        "xWavetrainL4_c2 =waveDataL4_c2[0:3888,:] \n",
        "xWavetestL4_c2 = waveDataL4_c2[3888:5832,:]\n",
        "xWavetrainL4_c3 =waveDataL4_c3[0:3888,:] \n",
        "xWavetestL4_c3 = waveDataL4_c3[3888:5832,:]"
      ],
      "execution_count": 0,
      "outputs": []
    },
    {
      "metadata": {
        "id": "Q1RP8yo18YQM",
        "colab_type": "code",
        "colab": {}
      },
      "cell_type": "code",
      "source": [
        ""
      ],
      "execution_count": 0,
      "outputs": []
    },
    {
      "metadata": {
        "id": "LLXsw3JC_0ff",
        "colab_type": "code",
        "colab": {}
      },
      "cell_type": "code",
      "source": [
        ""
      ],
      "execution_count": 0,
      "outputs": []
    },
    {
      "metadata": {
        "id": "fqcE-n_pPHF8",
        "colab_type": "code",
        "colab": {}
      },
      "cell_type": "code",
      "source": [
        "Xtrain1 = data_combi1[0:2592,5:725] ##4,5月\n",
        "Xtrain2 = data_combi2[0:2592,5:725] ##4,5月\n",
        "Xtrain3 = data_combi3[0:2592,5:725] ##4,5月"
      ],
      "execution_count": 0,
      "outputs": []
    },
    {
      "metadata": {
        "id": "zhn_PBCqALTb",
        "colab_type": "code",
        "colab": {}
      },
      "cell_type": "code",
      "source": [
        ""
      ],
      "execution_count": 0,
      "outputs": []
    },
    {
      "metadata": {
        "id": "7tnVPw5zALXB",
        "colab_type": "code",
        "colab": {}
      },
      "cell_type": "code",
      "source": [
        ""
      ],
      "execution_count": 0,
      "outputs": []
    },
    {
      "metadata": {
        "id": "fZ7Td_JLALbF",
        "colab_type": "code",
        "colab": {}
      },
      "cell_type": "code",
      "source": [
        "Xtest1 = data_combi1[2592:3888,5:725]\n",
        "Xtest2 = data_combi2[2592:3888,5:725]\n",
        "Xtest3 = data_combi3[2592:3888,5:725]"
      ],
      "execution_count": 0,
      "outputs": []
    },
    {
      "metadata": {
        "id": "_s335ruyALfM",
        "colab_type": "code",
        "colab": {}
      },
      "cell_type": "code",
      "source": [
        ""
      ],
      "execution_count": 0,
      "outputs": []
    },
    {
      "metadata": {
        "id": "zNLez8BqQEgq",
        "colab_type": "code",
        "colab": {}
      },
      "cell_type": "code",
      "source": [
        "Ydata = data_combi1[:,1]"
      ],
      "execution_count": 0,
      "outputs": []
    },
    {
      "metadata": {
        "id": "2jJmRFNpQMNP",
        "colab_type": "code",
        "colab": {}
      },
      "cell_type": "code",
      "source": [
        "Ydata"
      ],
      "execution_count": 0,
      "outputs": []
    },
    {
      "metadata": {
        "id": "du5TE4GfQjVi",
        "colab_type": "code",
        "colab": {}
      },
      "cell_type": "code",
      "source": [
        "Ydata1 = np.where(Ydata == 1, 0, 1)"
      ],
      "execution_count": 0,
      "outputs": []
    },
    {
      "metadata": {
        "id": "fYOeecNAQjnN",
        "colab_type": "code",
        "colab": {}
      },
      "cell_type": "code",
      "source": [
        ""
      ],
      "execution_count": 0,
      "outputs": []
    },
    {
      "metadata": {
        "id": "2YyuQWjSALj9",
        "colab_type": "code",
        "colab": {}
      },
      "cell_type": "code",
      "source": [
        "Ytrain1 = data_combi1[0:2592,1]\n",
        "Ytrain2 = data_combi2[0:2592,1]\n",
        "Ytrain3 = data_combi3[0:2592,1]"
      ],
      "execution_count": 0,
      "outputs": []
    },
    {
      "metadata": {
        "id": "CmmZT3yoRO2a",
        "colab_type": "code",
        "colab": {}
      },
      "cell_type": "code",
      "source": [
        " Ytrain1=np.where(Ytrain1 == 1, 0, 1)\n",
        "  #Tool = 1, SNS = 0"
      ],
      "execution_count": 0,
      "outputs": []
    },
    {
      "metadata": {
        "id": "f5hqs5jsmJo1",
        "colab_type": "code",
        "colab": {}
      },
      "cell_type": "code",
      "source": [
        " Ytrain2=np.where(Ytrain2 == 1, 0, 1)\n",
        "#Tool = 0, Game =1"
      ],
      "execution_count": 0,
      "outputs": []
    },
    {
      "metadata": {
        "id": "MrFiXvzEmRIi",
        "colab_type": "code",
        "colab": {}
      },
      "cell_type": "code",
      "source": [
        "Ytrain3=np.where(Ytrain3 == 2, 0, 1)\n",
        "#SNS=2,Game =3"
      ],
      "execution_count": 0,
      "outputs": []
    },
    {
      "metadata": {
        "id": "CLsjcvEBUAht",
        "colab_type": "code",
        "colab": {}
      },
      "cell_type": "code",
      "source": [
        ""
      ],
      "execution_count": 0,
      "outputs": []
    },
    {
      "metadata": {
        "id": "BZBLaZZ-_0bL",
        "colab_type": "code",
        "colab": {}
      },
      "cell_type": "code",
      "source": [
        "Ytest1 = data_combi1[2592:3888,1]\n",
        "Ytest2 = data_combi2[2592:3888,1]\n",
        "Ytest3 = data_combi3[2592:3888,1]"
      ],
      "execution_count": 0,
      "outputs": []
    },
    {
      "metadata": {
        "id": "3rUuzvwrnyKm",
        "colab_type": "code",
        "colab": {}
      },
      "cell_type": "code",
      "source": [
        ""
      ],
      "execution_count": 0,
      "outputs": []
    },
    {
      "metadata": {
        "id": "SyMJnEDzRbUR",
        "colab_type": "code",
        "colab": {}
      },
      "cell_type": "code",
      "source": [
        "YTest1=np.where(Ytest1 == 1, 0, 1)\n",
        "YTest2=np.where(Ytest2 == 1, 0, 1)\n",
        "YTest3=np.where(Ytest3 == 2, 0, 1)"
      ],
      "execution_count": 0,
      "outputs": []
    },
    {
      "metadata": {
        "id": "7KZ2sb3QU_4S",
        "colab_type": "code",
        "colab": {}
      },
      "cell_type": "code",
      "source": [
        "YTest1=np.where(Ytest1 == 1, 0, 1)"
      ],
      "execution_count": 0,
      "outputs": []
    },
    {
      "metadata": {
        "id": "as3zMEA_KoLI",
        "colab_type": "code",
        "colab": {}
      },
      "cell_type": "code",
      "source": [
        "Ytest = data[3888:5832,1]"
      ],
      "execution_count": 0,
      "outputs": []
    },
    {
      "metadata": {
        "id": "AQi2ebL1KxX0",
        "colab_type": "code",
        "colab": {}
      },
      "cell_type": "code",
      "source": [
        ""
      ],
      "execution_count": 0,
      "outputs": []
    },
    {
      "metadata": {
        "id": "L4vIYYPgK8me",
        "colab_type": "code",
        "colab": {}
      },
      "cell_type": "code",
      "source": [
        ""
      ],
      "execution_count": 0,
      "outputs": []
    },
    {
      "metadata": {
        "id": "bzSxk-z5L-j3",
        "colab_type": "code",
        "colab": {}
      },
      "cell_type": "code",
      "source": [
        "ytrain_int = Ytrain1.astype(np.int64)\n",
        "ytest_int = Ytest1.astype(np.int64)"
      ],
      "execution_count": 0,
      "outputs": []
    },
    {
      "metadata": {
        "id": "EKQjJLefAZsc",
        "colab_type": "code",
        "colab": {}
      },
      "cell_type": "code",
      "source": [
        "train_X = np.reshape(Xtrain1, (-1, 720, 1))\n",
        "test_X = np.reshape(Xtest1, (-1, 720, 1))\n",
        "train_X2 = np.reshape(Xtrain2, (-1, 720, 1))\n",
        "test_X2 = np.reshape(Xtest2, (-1, 720, 1))\n",
        "train_X3 = np.reshape(Xtrain3, (-1, 720, 1))\n",
        "test_X3 = np.reshape(Xtest3, (-1, 720, 1))\n",
        "train_Xw1c1 = np.reshape(xWavetrainL1_c1, (-1, 720, 1))\n",
        "test_Xw1c1 = np.reshape(xWavetestL1_c1, (-1, 720, 1))\n",
        "train_Xw1c2 = np.reshape(xWavetrainL1_c2, (-1, 720, 1))\n",
        "test_Xw1c2 = np.reshape(xWavetestL1_c2, (-1, 720, 1))\n",
        "train_Xw1c3 = np.reshape(xWavetrainL1_c3, (-1, 720, 1))\n",
        "test_Xw1c3 = np.reshape(xWavetestL1_c3, (-1, 720, 1))\n",
        "train_Xw3c1 = np.reshape(xWavetrainL3_c1, (-1, 720, 1))\n",
        "test_Xw3c1 = np.reshape(xWavetestL3_c1, (-1, 720, 1))\n",
        "train_Xw3c2 = np.reshape(xWavetrainL3_c2, (-1, 720, 1))\n",
        "test_Xw3c2 = np.reshape(xWavetestL3_c2, (-1, 720, 1))\n",
        "train_Xw3c3 = np.reshape(xWavetrainL3_c3, (-1, 720, 1))\n",
        "test_Xw3c3 = np.reshape(xWavetestL3_c3, (-1, 720, 1))\n",
        "train_Xw4c1 = np.reshape(xWavetrainL4_c1, (-1, 720, 1))\n",
        "test_Xw4c1 = np.reshape(xWavetestL4_c1, (-1, 720, 1))\n",
        "train_Xw4c2 = np.reshape(xWavetrainL4_c2, (-1, 720, 1))\n",
        "test_Xw4c2 = np.reshape(xWavetestL4_c2, (-1, 720, 1))\n",
        "train_Xw4c3 = np.reshape(xWavetrainL4_c3, (-1, 720, 1))\n",
        "test_Xw4c3 = np.reshape(xWavetestL4_c3, (-1, 720, 1))"
      ],
      "execution_count": 0,
      "outputs": []
    },
    {
      "metadata": {
        "id": "Vg20IjnBRl6i",
        "colab_type": "code",
        "colab": {}
      },
      "cell_type": "code",
      "source": [
        "train_X = np.reshape(Xtrain1, (-1, 720, 1))\n",
        "test_X = np.reshape(Xtest1, (-1, 720, 1))"
      ],
      "execution_count": 0,
      "outputs": []
    },
    {
      "metadata": {
        "id": "fmknZiY3cvVM",
        "colab_type": "code",
        "colab": {}
      },
      "cell_type": "code",
      "source": [
        "train_Xw2c1 = np.reshape(xWavetrainL2_c1, (-1, 720, 1))\n",
        "test_Xw2c1 = np.reshape(xWavetestL2_c1, (-1, 720, 1))\n",
        "train_Xw2c2 = np.reshape(xWavetrainL2_c2, (-1, 720, 1))\n",
        "test_Xw2c2 = np.reshape(xWavetestL2_c2, (-1, 720, 1))\n",
        "train_Xw2c3 = np.reshape(xWavetrainL2_c3, (-1, 720, 1))\n",
        "test_Xw2c3 = np.reshape(xWavetestL2_c3, (-1, 720, 1))"
      ],
      "execution_count": 0,
      "outputs": []
    },
    {
      "metadata": {
        "id": "MHqrMT4xAZvl",
        "colab_type": "code",
        "colab": {}
      },
      "cell_type": "code",
      "source": [
        "num_class = 2"
      ],
      "execution_count": 0,
      "outputs": []
    },
    {
      "metadata": {
        "id": "SlfQFnE0n6zk",
        "colab_type": "code",
        "colab": {}
      },
      "cell_type": "code",
      "source": [
        ""
      ],
      "execution_count": 0,
      "outputs": []
    },
    {
      "metadata": {
        "id": "uZpZ2C0DAZ4d",
        "colab_type": "code",
        "colab": {}
      },
      "cell_type": "code",
      "source": [
        "Ytrain1 = to_categorical(Ytrain1, num_class)\n",
        "Ytest1 = to_categorical(YTest1 , num_class)\n",
        "Ytrain2 = to_categorical(Ytrain2, num_class)\n",
        "Ytest2 = to_categorical(YTest2 , num_class)\n",
        "Ytrain3 = to_categorical(Ytrain3, num_class)\n",
        "Ytest3 = to_categorical(YTest3 , num_class)"
      ],
      "execution_count": 0,
      "outputs": []
    },
    {
      "metadata": {
        "id": "VWGf2GHvFouK",
        "colab_type": "code",
        "colab": {}
      },
      "cell_type": "code",
      "source": [
        ""
      ],
      "execution_count": 0,
      "outputs": []
    },
    {
      "metadata": {
        "id": "mT9IxHxeAZ8k",
        "colab_type": "code",
        "outputId": "2e205d71-683b-454e-b543-8ee48ff90c9c",
        "colab": {
          "base_uri": "https://localhost:8080/",
          "height": 578
        }
      },
      "cell_type": "code",
      "source": [
        "model = Sequential()\n",
        "model.add(Conv1D(90, 4, padding='same', input_shape=(720, 1), activation='relu'))\n",
        "model.add(MaxPooling1D(3, padding='same'))\n",
        "model.add(Conv1D(60, 4, padding='same', activation='relu'))\n",
        "model.add(Conv1D(30, 7, padding='same', activation='relu'))\n",
        "model.add(MaxPooling1D(3, padding='same'))\n",
        "model.add(Conv1D(168, 6, padding='same', activation='relu'))\n",
        "model.add(MaxPooling1D(6, padding='same'))\n",
        "model.add(Conv1D(90, 4, padding='same', activation='relu'))\n",
        "\n",
        "\n",
        "model.add(Flatten())\n",
        "model.add(Dense(100,activation='relu'))\n",
        "model.add(Dropout(0.2))\n",
        "model.add(Dense(num_class))\n",
        "model.add(Activation('softmax'))\n",
        "model.summary()\n",
        "model.compile(\n",
        "loss='binary_crossentropy', \n",
        "optimizer='adam', \n",
        "metrics=['accuracy'])"
      ],
      "execution_count": 0,
      "outputs": [
        {
          "output_type": "stream",
          "text": [
            "_________________________________________________________________\n",
            "Layer (type)                 Output Shape              Param #   \n",
            "=================================================================\n",
            "conv1d_1 (Conv1D)            (None, 720, 90)           450       \n",
            "_________________________________________________________________\n",
            "max_pooling1d_1 (MaxPooling1 (None, 240, 90)           0         \n",
            "_________________________________________________________________\n",
            "conv1d_2 (Conv1D)            (None, 240, 60)           21660     \n",
            "_________________________________________________________________\n",
            "conv1d_3 (Conv1D)            (None, 240, 30)           12630     \n",
            "_________________________________________________________________\n",
            "max_pooling1d_2 (MaxPooling1 (None, 80, 30)            0         \n",
            "_________________________________________________________________\n",
            "conv1d_4 (Conv1D)            (None, 80, 168)           30408     \n",
            "_________________________________________________________________\n",
            "max_pooling1d_3 (MaxPooling1 (None, 14, 168)           0         \n",
            "_________________________________________________________________\n",
            "conv1d_5 (Conv1D)            (None, 14, 90)            60570     \n",
            "_________________________________________________________________\n",
            "flatten_1 (Flatten)          (None, 1260)              0         \n",
            "_________________________________________________________________\n",
            "dense_1 (Dense)              (None, 100)               126100    \n",
            "_________________________________________________________________\n",
            "dropout_1 (Dropout)          (None, 100)               0         \n",
            "_________________________________________________________________\n",
            "dense_2 (Dense)              (None, 2)                 202       \n",
            "_________________________________________________________________\n",
            "activation_1 (Activation)    (None, 2)                 0         \n",
            "=================================================================\n",
            "Total params: 252,020\n",
            "Trainable params: 252,020\n",
            "Non-trainable params: 0\n",
            "_________________________________________________________________\n"
          ],
          "name": "stdout"
        }
      ]
    },
    {
      "metadata": {
        "id": "c7pN37urbt7_",
        "colab_type": "code",
        "colab": {}
      },
      "cell_type": "code",
      "source": [
        "model1 = Sequential()\n",
        "model1.add(Conv1D(90, 4, padding='same', input_shape=(720, 1), activation='relu'))\n",
        "model1.add(MaxPooling1D(3, padding='same'))\n",
        "model1.add(Conv1D(60, 4, padding='same', activation='relu'))\n",
        "model1.add(Conv1D(30, 7, padding='same', activation='relu'))\n",
        "model1.add(MaxPooling1D(3, padding='same'))\n",
        "model1.add(Conv1D(168, 6, padding='same', activation='relu'))\n",
        "model1.add(MaxPooling1D(6, padding='same'))\n",
        "model1.add(Conv1D(90, 4, padding='same', activation='relu'))\n",
        "\n",
        "\n",
        "model1.add(Flatten())\n",
        "model1.add(Dense(100,activation='relu'))\n",
        "model1.add(Dropout(0.2))\n",
        "model1.add(Dense(num_class))\n",
        "model1.add(Activation('softmax'))\n",
        "#model.summary()\n",
        "model1.compile(\n",
        "loss='binary_crossentropy', \n",
        "optimizer='adam', \n",
        "metrics=['accuracy'])"
      ],
      "execution_count": 0,
      "outputs": []
    },
    {
      "metadata": {
        "id": "psAmv93ywMEt",
        "colab_type": "code",
        "colab": {}
      },
      "cell_type": "code",
      "source": [
        "model2 = Sequential()\n",
        "model2.add(Conv1D(90, 4, padding='same', input_shape=(720, 1), activation='relu'))\n",
        "model2.add(MaxPooling1D(3, padding='same'))\n",
        "model2.add(Conv1D(60, 4, padding='same', activation='relu'))\n",
        "model2.add(Conv1D(30, 7, padding='same', activation='relu'))\n",
        "model2.add(MaxPooling1D(3, padding='same'))\n",
        "model2.add(Conv1D(168, 6, padding='same', activation='relu'))\n",
        "model2.add(MaxPooling1D(6, padding='same'))\n",
        "model2.add(Conv1D(90, 4, padding='same', activation='relu'))\n",
        "\n",
        "\n",
        "model2.add(Flatten())\n",
        "model2.add(Dense(100,activation='relu'))\n",
        "model2.add(Dropout(0.2))\n",
        "model2.add(Dense(num_class))\n",
        "model2.add(Activation('softmax'))\n",
        "#model.summary()\n",
        "model2.compile(\n",
        "loss='binary_crossentropy', \n",
        "optimizer='adam', \n",
        "metrics=['accuracy'])"
      ],
      "execution_count": 0,
      "outputs": []
    },
    {
      "metadata": {
        "id": "RyUmQwOP3xsT",
        "colab_type": "code",
        "colab": {}
      },
      "cell_type": "code",
      "source": [
        "early_stopping = EarlyStopping(patience = 0,verbose=1)"
      ],
      "execution_count": 0,
      "outputs": []
    },
    {
      "metadata": {
        "id": "F6DbwiawAZ28",
        "colab_type": "code",
        "outputId": "f3c39fa9-247f-4080-e3d2-5c17f4330d2e",
        "colab": {
          "base_uri": "https://localhost:8080/",
          "height": 187
        }
      },
      "cell_type": "code",
      "source": [
        "\n",
        "fit1 = model.fit(train_X, Ytrain1,\n",
        "              batch_size=200,\n",
        "              epochs=150,\n",
        "              verbose=1,\n",
        "              validation_split=0.01,\n",
        "              callbacks = [early_stopping]\n",
        "              ##callbacks=[callback]\n",
        "                )\n"
      ],
      "execution_count": 0,
      "outputs": [
        {
          "output_type": "stream",
          "text": [
            "Train on 2566 samples, validate on 26 samples\n",
            "Epoch 1/150\n",
            "2566/2566 [==============================] - 4s 2ms/step - loss: 0.6410 - acc: 0.5616 - val_loss: 0.6048 - val_acc: 0.7308\n",
            "Epoch 2/150\n",
            "2566/2566 [==============================] - 1s 282us/step - loss: 0.5871 - acc: 0.7178 - val_loss: 0.5713 - val_acc: 0.7308\n",
            "Epoch 3/150\n",
            "2566/2566 [==============================] - 1s 290us/step - loss: 0.5300 - acc: 0.7576 - val_loss: 0.4905 - val_acc: 0.6923\n",
            "Epoch 4/150\n",
            "2566/2566 [==============================] - 1s 281us/step - loss: 0.5014 - acc: 0.7634 - val_loss: 0.5136 - val_acc: 0.7692\n",
            "Epoch 00004: early stopping\n"
          ],
          "name": "stdout"
        }
      ]
    },
    {
      "metadata": {
        "id": "UOTgXFrcxSZi",
        "colab_type": "code",
        "outputId": "08b7e462-297b-42b4-c4af-bfaef27c638a",
        "colab": {
          "base_uri": "https://localhost:8080/",
          "height": 187
        }
      },
      "cell_type": "code",
      "source": [
        "fit2 = model1.fit(train_X2, Ytrain2,\n",
        "              batch_size=200,\n",
        "              epochs=150,\n",
        "              verbose=1,\n",
        "              validation_split=0.01,\n",
        "              callbacks = [early_stopping]\n",
        "              ##callbacks=[callback]\n",
        "                )\n"
      ],
      "execution_count": 0,
      "outputs": [
        {
          "output_type": "stream",
          "text": [
            "Train on 2566 samples, validate on 26 samples\n",
            "Epoch 1/150\n",
            "2566/2566 [==============================] - 2s 602us/step - loss: 0.6807 - acc: 0.5327 - val_loss: 0.6093 - val_acc: 0.5769\n",
            "Epoch 2/150\n",
            "2566/2566 [==============================] - 1s 313us/step - loss: 0.6192 - acc: 0.6559 - val_loss: 0.5309 - val_acc: 0.7692\n",
            "Epoch 3/150\n",
            "2566/2566 [==============================] - 1s 292us/step - loss: 0.5702 - acc: 0.7221 - val_loss: 0.4096 - val_acc: 0.8462\n",
            "Epoch 4/150\n",
            "2566/2566 [==============================] - 1s 290us/step - loss: 0.5439 - acc: 0.7342 - val_loss: 0.4320 - val_acc: 0.8462\n",
            "Epoch 00004: early stopping\n"
          ],
          "name": "stdout"
        }
      ]
    },
    {
      "metadata": {
        "id": "IcsuPTbeGrNE",
        "colab_type": "code",
        "outputId": "d894b8e9-9909-4b8b-df92-284519f38872",
        "colab": {
          "base_uri": "https://localhost:8080/",
          "height": 119
        }
      },
      "cell_type": "code",
      "source": [
        "fit3 = model2.fit(train_X3, Ytrain3,\n",
        "              batch_size=200,\n",
        "              epochs=150,\n",
        "              verbose=1,\n",
        "              validation_split=0.01,\n",
        "              callbacks = [early_stopping]\n",
        "              ##callbacks=[callback]\n",
        "                )\n"
      ],
      "execution_count": 0,
      "outputs": [
        {
          "output_type": "stream",
          "text": [
            "Train on 2566 samples, validate on 26 samples\n",
            "Epoch 1/150\n",
            "2566/2566 [==============================] - 2s 595us/step - loss: 0.7078 - acc: 0.4852 - val_loss: 0.6902 - val_acc: 0.4231\n",
            "Epoch 2/150\n",
            "2566/2566 [==============================] - 1s 281us/step - loss: 0.6920 - acc: 0.5171 - val_loss: 0.6913 - val_acc: 0.4615\n",
            "Epoch 00002: early stopping\n"
          ],
          "name": "stdout"
        }
      ]
    },
    {
      "metadata": {
        "id": "QwPMeI4SK0Mn",
        "colab_type": "code",
        "colab": {}
      },
      "cell_type": "code",
      "source": [
        "callback = Tensorboard(logdir='drive/path/to/log')"
      ],
      "execution_count": 0,
      "outputs": []
    },
    {
      "metadata": {
        "id": "ik-jN99WAZ0k",
        "colab_type": "code",
        "outputId": "ebb9a334-7731-46e3-bdb7-f7d6dfe6bb0e",
        "colab": {
          "base_uri": "https://localhost:8080/",
          "height": 51
        }
      },
      "cell_type": "code",
      "source": [
        "##学習回数60回\n",
        "score = model.evaluate(test_X, Ytest1,verbose=0)\n",
        "\n",
        "print('Test loss:', score[0])\n",
        "print('Test accuracy:', score[1])"
      ],
      "execution_count": 0,
      "outputs": [
        {
          "output_type": "stream",
          "text": [
            "Test loss: 0.5094728823061343\n",
            "Test accuracy: 0.7623456790123457\n"
          ],
          "name": "stdout"
        }
      ]
    },
    {
      "metadata": {
        "id": "4R2YwZdjaZ2R",
        "colab_type": "code",
        "outputId": "18e9af65-5a1b-4928-8b6d-b95fa9217056",
        "colab": {
          "base_uri": "https://localhost:8080/",
          "height": 51
        }
      },
      "cell_type": "code",
      "source": [
        "##wavelet level1\n",
        "score = model1.evaluate(test_X2, Ytest2,verbose=0)\n",
        "print('Test loss:', score[0])\n",
        "print('Test accuracy:', score[1])"
      ],
      "execution_count": 0,
      "outputs": [
        {
          "output_type": "stream",
          "text": [
            "Test loss: 0.5364379625261566\n",
            "Test accuracy: 0.7422839506172839\n"
          ],
          "name": "stdout"
        }
      ]
    },
    {
      "metadata": {
        "id": "2sN4CvWcKDyb",
        "colab_type": "code",
        "outputId": "2523613e-8bb2-44e5-9053-2960bf13395b",
        "colab": {
          "base_uri": "https://localhost:8080/",
          "height": 51
        }
      },
      "cell_type": "code",
      "source": [
        "score = model2.evaluate(test_X3, Ytest3,verbose=0)\n",
        "print('Test loss:', score[0])\n",
        "print('Test accuracy:', score[1])"
      ],
      "execution_count": 0,
      "outputs": [
        {
          "output_type": "stream",
          "text": [
            "Test loss: 0.6921705625675343\n",
            "Test accuracy: 0.5108024691358025\n"
          ],
          "name": "stdout"
        }
      ]
    },
    {
      "metadata": {
        "id": "VLnHGUHPJ_3V",
        "colab_type": "code",
        "outputId": "dc297994-73e7-46a3-9340-651458efedb4",
        "colab": {
          "base_uri": "https://localhost:8080/",
          "height": 34
        }
      },
      "cell_type": "code",
      "source": [
        " y_pred = model.predict_classes(test_X, batch_size=200, verbose=1)"
      ],
      "execution_count": 0,
      "outputs": [
        {
          "output_type": "stream",
          "text": [
            "1296/1296 [==============================] - 1s 535us/step\n"
          ],
          "name": "stdout"
        }
      ]
    },
    {
      "metadata": {
        "id": "bRqAw9TfKnbG",
        "colab_type": "code",
        "outputId": "3ee4e4e1-fa4e-4ebe-d66d-85eaf609216b",
        "colab": {
          "base_uri": "https://localhost:8080/",
          "height": 34
        }
      },
      "cell_type": "code",
      "source": [
        "y_pred1 = model1.predict_classes(test_X2, batch_size=200, verbose=1)"
      ],
      "execution_count": 0,
      "outputs": [
        {
          "output_type": "stream",
          "text": [
            "1296/1296 [==============================] - 1s 408us/step\n"
          ],
          "name": "stdout"
        }
      ]
    },
    {
      "metadata": {
        "id": "oiDKpUCqKpln",
        "colab_type": "code",
        "outputId": "5ffdcc03-c0ff-405f-8dd1-c1e28fe5775c",
        "colab": {
          "base_uri": "https://localhost:8080/",
          "height": 34
        }
      },
      "cell_type": "code",
      "source": [
        "y_pred2 = model2.predict_classes(test_X3, batch_size=200, verbose=1)"
      ],
      "execution_count": 0,
      "outputs": [
        {
          "output_type": "stream",
          "text": [
            "1296/1296 [==============================] - 1s 440us/step\n"
          ],
          "name": "stdout"
        }
      ]
    },
    {
      "metadata": {
        "id": "U1K6GDVzKhLo",
        "colab_type": "code",
        "colab": {}
      },
      "cell_type": "code",
      "source": [
        "y_pred"
      ],
      "execution_count": 0,
      "outputs": []
    },
    {
      "metadata": {
        "id": "PAfKNAAjLli6",
        "colab_type": "code",
        "outputId": "6143898e-f897-47ed-f809-8f93bf3ba7ff",
        "colab": {
          "base_uri": "https://localhost:8080/",
          "height": 34
        }
      },
      "cell_type": "code",
      "source": [
        "y_pred.dtype"
      ],
      "execution_count": 0,
      "outputs": [
        {
          "output_type": "execute_result",
          "data": {
            "text/plain": [
              "dtype('int64')"
            ]
          },
          "metadata": {
            "tags": []
          },
          "execution_count": 95
        }
      ]
    },
    {
      "metadata": {
        "id": "xpyhWhvaI4jK",
        "colab_type": "code",
        "outputId": "fd085403-fe31-47ca-f41f-931b970dde85",
        "colab": {
          "base_uri": "https://localhost:8080/",
          "height": 34
        }
      },
      "cell_type": "code",
      "source": [
        "y_pred2.dtype"
      ],
      "execution_count": 0,
      "outputs": [
        {
          "output_type": "execute_result",
          "data": {
            "text/plain": [
              "dtype('int64')"
            ]
          },
          "metadata": {
            "tags": []
          },
          "execution_count": 68
        }
      ]
    },
    {
      "metadata": {
        "id": "ZXFDPNk_886G",
        "colab_type": "code",
        "outputId": "0faac598-104b-4cb0-8011-0a4e31a92b64",
        "colab": {
          "base_uri": "https://localhost:8080/",
          "height": 34
        }
      },
      "cell_type": "code",
      "source": [
        "y_pred3.dtype"
      ],
      "execution_count": 0,
      "outputs": [
        {
          "output_type": "execute_result",
          "data": {
            "text/plain": [
              "dtype('int64')"
            ]
          },
          "metadata": {
            "tags": []
          },
          "execution_count": 69
        }
      ]
    },
    {
      "metadata": {
        "id": "IpofO95w_0Xk",
        "colab_type": "code",
        "outputId": "4201d371-88eb-4fc9-818e-5b4b7ce59ce7",
        "colab": {
          "base_uri": "https://localhost:8080/",
          "height": 68
        }
      },
      "cell_type": "code",
      "source": [
        "##normal\n",
        "print(\"confusion matrix:\")\n",
        "print(metrics.confusion_matrix(YTest1, y_pred))"
      ],
      "execution_count": 0,
      "outputs": [
        {
          "output_type": "stream",
          "text": [
            "confusion matrix:\n",
            "[[569  79]\n",
            " [229 419]]\n"
          ],
          "name": "stdout"
        }
      ]
    },
    {
      "metadata": {
        "id": "YULGpA39JgPt",
        "colab_type": "code",
        "outputId": "99645811-f565-4b24-89a8-f837ffea094c",
        "colab": {
          "base_uri": "https://localhost:8080/",
          "height": 34
        }
      },
      "cell_type": "code",
      "source": [
        "(569+419)/1296"
      ],
      "execution_count": 0,
      "outputs": [
        {
          "output_type": "execute_result",
          "data": {
            "text/plain": [
              "0.7623456790123457"
            ]
          },
          "metadata": {
            "tags": []
          },
          "execution_count": 97
        }
      ]
    },
    {
      "metadata": {
        "id": "I_6Gsw23ados",
        "colab_type": "code",
        "outputId": "15242a1a-0fdc-456a-ca08-ac21943dce72",
        "colab": {
          "base_uri": "https://localhost:8080/",
          "height": 68
        }
      },
      "cell_type": "code",
      "source": [
        "print(\"confusion matrix:\")\n",
        "print(metrics.confusion_matrix(YTest2, y_pred1))"
      ],
      "execution_count": 0,
      "outputs": [
        {
          "output_type": "stream",
          "text": [
            "confusion matrix:\n",
            "[[523 125]\n",
            " [209 439]]\n"
          ],
          "name": "stdout"
        }
      ]
    },
    {
      "metadata": {
        "id": "QlpWHRSWJsVv",
        "colab_type": "code",
        "outputId": "21bd161b-35ed-4bb5-8238-3fcb73d136c3",
        "colab": {
          "base_uri": "https://localhost:8080/",
          "height": 34
        }
      },
      "cell_type": "code",
      "source": [
        "(523+439)/1296"
      ],
      "execution_count": 0,
      "outputs": [
        {
          "output_type": "execute_result",
          "data": {
            "text/plain": [
              "0.7422839506172839"
            ]
          },
          "metadata": {
            "tags": []
          },
          "execution_count": 99
        }
      ]
    },
    {
      "metadata": {
        "id": "p3_xG38zd66C",
        "colab_type": "code",
        "outputId": "e116ad6d-c645-4468-8cb8-745ccdb0f681",
        "colab": {
          "base_uri": "https://localhost:8080/",
          "height": 68
        }
      },
      "cell_type": "code",
      "source": [
        "print(\"confusion matrix:\")\n",
        "print(metrics.confusion_matrix(YTest3, y_pred2))"
      ],
      "execution_count": 0,
      "outputs": [
        {
          "output_type": "stream",
          "text": [
            "confusion matrix:\n",
            "[[357 291]\n",
            " [343 305]]\n"
          ],
          "name": "stdout"
        }
      ]
    },
    {
      "metadata": {
        "id": "OKafOGINeK3T",
        "colab_type": "code",
        "outputId": "c0c246eb-4687-403d-f04b-8f7a639893d2",
        "colab": {
          "base_uri": "https://localhost:8080/",
          "height": 34
        }
      },
      "cell_type": "code",
      "source": [
        "(357 + 305)/1296"
      ],
      "execution_count": 0,
      "outputs": [
        {
          "output_type": "execute_result",
          "data": {
            "text/plain": [
              "0.5108024691358025"
            ]
          },
          "metadata": {
            "tags": []
          },
          "execution_count": 101
        }
      ]
    },
    {
      "metadata": {
        "id": "wNJFmzuXMBWQ",
        "colab_type": "code",
        "colab": {}
      },
      "cell_type": "code",
      "source": [
        ""
      ],
      "execution_count": 0,
      "outputs": []
    }
  ]
}